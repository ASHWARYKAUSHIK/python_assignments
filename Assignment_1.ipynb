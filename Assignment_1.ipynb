{
 "cells": [
  {
   "cell_type": "markdown",
   "id": "a31c357d-e5ec-4d37-a001-86776ba97058",
   "metadata": {},
   "source": [
    "### Basic variable based questions "
   ]
  },
  {
   "cell_type": "markdown",
   "id": "44e339c6-b46f-48c8-8c9f-cbbcbee9a387",
   "metadata": {},
   "source": [
    "1. Declare two variables, `x` and `y`, and assign them integer values. Swap the values of these variables without using any temporary variable."
   ]
  },
  {
   "cell_type": "code",
   "execution_count": 1,
   "id": "1e7f4eb3-13ae-4d73-9988-2c3725118f28",
   "metadata": {},
   "outputs": [],
   "source": [
    "# declare two variables\n",
    "x, y = 23, 34"
   ]
  },
  {
   "cell_type": "code",
   "execution_count": 2,
   "id": "ebb8831f-f846-4855-b2cc-4737600a57f8",
   "metadata": {},
   "outputs": [
    {
     "name": "stdout",
     "output_type": "stream",
     "text": [
      "Values before swapping\n",
      "x :  23\n",
      "y :  34\n"
     ]
    }
   ],
   "source": [
    "# print their values before swapping\n",
    "print(\"Values before swapping\")\n",
    "print(\"x : \", x)\n",
    "print(\"y : \", y)"
   ]
  },
  {
   "cell_type": "code",
   "execution_count": 3,
   "id": "dc796d49-682f-49c7-ad51-8b0edce8b60b",
   "metadata": {},
   "outputs": [],
   "source": [
    "# swapping values\n",
    "x, y = y, x"
   ]
  },
  {
   "cell_type": "code",
   "execution_count": 4,
   "id": "e057ee1b-4922-4f06-bf8b-2d7513e78430",
   "metadata": {},
   "outputs": [
    {
     "name": "stdout",
     "output_type": "stream",
     "text": [
      "Values after swapping\n",
      "x :  34\n",
      "y :  23\n"
     ]
    }
   ],
   "source": [
    "# print their values after swapping\n",
    "print(\"Values after swapping\")\n",
    "print(\"x : \", x)\n",
    "print(\"y : \", y)"
   ]
  },
  {
   "cell_type": "markdown",
   "id": "08221c9d-c9bd-4a8a-b057-f142acaa0950",
   "metadata": {},
   "source": [
    "2. Create a program that calculates the area of a rectangle. Take the length and width as inputs from the user and store them in variables. Calculate and display the area."
   ]
  },
  {
   "cell_type": "code",
   "execution_count": 5,
   "id": "c3ce0144-97db-4d52-8b6c-3e6e244af678",
   "metadata": {},
   "outputs": [
    {
     "name": "stdin",
     "output_type": "stream",
     "text": [
      "Input rectangle length :  12\n",
      "Input rectangle width :  13\n"
     ]
    },
    {
     "name": "stdout",
     "output_type": "stream",
     "text": [
      "Area of rectangle :  156.0\n"
     ]
    }
   ],
   "source": [
    "# take rectangle length and width as user inputs\n",
    "rect_length = float(input(\"Input rectangle length : \"))\n",
    "rect_width = float(input(\"Input rectangle width : \"))\n",
    "# print the area of rectangle\n",
    "print(\"Area of rectangle : \", rect_length*rect_width)"
   ]
  },
  {
   "cell_type": "markdown",
   "id": "1e6b130e-270c-4a4a-8ab2-394d098de048",
   "metadata": {},
   "source": [
    "3. Write a Python program that converts temperatures from Celsius to Fahrenheit. Take the temperature in Celsius as input, store it in a variable, convert it to Fahrenheit, and display the result."
   ]
  },
  {
   "cell_type": "code",
   "execution_count": 6,
   "id": "ebe70f09-942e-41c8-96ec-bc95ef35502f",
   "metadata": {},
   "outputs": [
    {
     "name": "stdin",
     "output_type": "stream",
     "text": [
      "Input temperature in Celcius :  40\n"
     ]
    },
    {
     "name": "stdout",
     "output_type": "stream",
     "text": [
      "Temperature in Fahrenheit :  104.0\n"
     ]
    }
   ],
   "source": [
    "# take user input in degree celcius\n",
    "temp_cel = float(input(\"Input temperature in Celcius : \"))\n",
    "# convert user input in degree farenheit\n",
    "temp_fah = (temp_cel*9/5)+32\n",
    "# display the result in farenheit\n",
    "print(\"Temperature in Fahrenheit : \", temp_fah)"
   ]
  },
  {
   "cell_type": "markdown",
   "id": "306b75ef-3001-4110-9bbc-9d7659c1a566",
   "metadata": {},
   "source": [
    "### String based questions"
   ]
  },
  {
   "cell_type": "markdown",
   "id": "c3684a2c-f27b-40e6-a700-560e65ad420a",
   "metadata": {},
   "source": [
    "1. Write a Python program that takes a string as input and prints the length of the string."
   ]
  },
  {
   "cell_type": "code",
   "execution_count": 7,
   "id": "6897d5ff-c1c8-46a9-b237-bd79ef459e9e",
   "metadata": {},
   "outputs": [
    {
     "name": "stdin",
     "output_type": "stream",
     "text": [
      "Enter a string :  hello world\n"
     ]
    },
    {
     "name": "stdout",
     "output_type": "stream",
     "text": [
      "Length of string is :  11\n"
     ]
    }
   ],
   "source": [
    "# take user input as a string, and print its length\n",
    "s = input(\"Enter a string : \")\n",
    "print(\"Length of string is : \", len(s))"
   ]
  },
  {
   "cell_type": "markdown",
   "id": "335405cc-fde1-4a7e-8d10-c874a3e5f2de",
   "metadata": {},
   "source": [
    "2. Create a program that takes a sentence from the user and counts the number of vowels (a, e, i, o, u) in the string."
   ]
  },
  {
   "cell_type": "code",
   "execution_count": 8,
   "id": "2cb87973-4f7e-49c1-b923-71c489a857ed",
   "metadata": {},
   "outputs": [
    {
     "name": "stdin",
     "output_type": "stream",
     "text": [
      "Enter a sentence: hello world\n"
     ]
    },
    {
     "name": "stdout",
     "output_type": "stream",
     "text": [
      "Number of vowels in sentence:  3\n"
     ]
    }
   ],
   "source": [
    "# define a string as vowels, take user input as a sentence and convert it into lower case\n",
    "vowel = \"aeiou\"\n",
    "sentence = input(\"Enter a sentence:\").lower()\n",
    "# count the number of instances of vowels in user provided string\n",
    "count = sentence.count(vowel[0]) +\\\n",
    "        sentence.count(vowel[1]) +\\\n",
    "        sentence.count(vowel[2]) +\\\n",
    "        sentence.count(vowel[3]) +\\\n",
    "        sentence.count(vowel[4])\n",
    "print(\"Number of vowels in sentence: \", count)"
   ]
  },
  {
   "cell_type": "markdown",
   "id": "ed36b81e-9aab-4966-bbc7-bf1383b690b4",
   "metadata": {},
   "source": [
    "3. Given a string, reverse the order of characters using string slicing and print the reversed string."
   ]
  },
  {
   "cell_type": "code",
   "execution_count": 9,
   "id": "592138ba-5d86-41b2-8885-25c18308c6be",
   "metadata": {
    "tags": []
   },
   "outputs": [
    {
     "name": "stdout",
     "output_type": "stream",
     "text": [
      "sllikswp\n"
     ]
    }
   ],
   "source": [
    "# given a string, display it in reverse order\n",
    "s = \"pwskills\"\n",
    "print(s[::-1])"
   ]
  },
  {
   "cell_type": "markdown",
   "id": "4ebf12bb-824b-41e4-9e9d-df48f8103d3a",
   "metadata": {},
   "source": [
    "4. Write a program that takes a string as input and checks if it is a palindrome (reads the same forwards and backwards)."
   ]
  },
  {
   "cell_type": "code",
   "execution_count": 10,
   "id": "6c2a6b98-732b-4295-811b-027c0f5eb53e",
   "metadata": {},
   "outputs": [
    {
     "name": "stdin",
     "output_type": "stream",
     "text": [
      "Enter a string :  madam\n"
     ]
    },
    {
     "name": "stdout",
     "output_type": "stream",
     "text": [
      "Is palindrome :  True\n"
     ]
    }
   ],
   "source": [
    "# check if the string is palindrome or not by displaying a boolean value\n",
    "s = str(input(\"Enter a string : \"))\n",
    "s_rev = s[::-1]\n",
    "print(\"Is palindrome : \", s == s_rev)"
   ]
  },
  {
   "cell_type": "markdown",
   "id": "1aa9bb23-f4d6-4ffa-8566-ff836226db07",
   "metadata": {},
   "source": [
    "5. Create a program that takes a string as input and removes all the spaces from it. Print the modified string without spaces."
   ]
  },
  {
   "cell_type": "code",
   "execution_count": 11,
   "id": "ca3336a0-fe0d-4e07-8e41-1a763d5c735f",
   "metadata": {},
   "outputs": [
    {
     "name": "stdin",
     "output_type": "stream",
     "text": [
      "Enter a string :        hell    o    \n"
     ]
    },
    {
     "name": "stdout",
     "output_type": "stream",
     "text": [
      "String without spaces : hello\n"
     ]
    }
   ],
   "source": [
    "# take user input as sting and strip all the white spaces from the sring\n",
    "s = str(input(\"Enter a string : \"))\n",
    "lst = s.split()\n",
    "print(\"String without spaces :\", \"\".join(lst))"
   ]
  }
 ],
 "metadata": {
  "kernelspec": {
   "display_name": "Python 3 (ipykernel)",
   "language": "python",
   "name": "python3"
  },
  "language_info": {
   "codemirror_mode": {
    "name": "ipython",
    "version": 3
   },
   "file_extension": ".py",
   "mimetype": "text/x-python",
   "name": "python",
   "nbconvert_exporter": "python",
   "pygments_lexer": "ipython3",
   "version": "3.10.8"
  }
 },
 "nbformat": 4,
 "nbformat_minor": 5
}
